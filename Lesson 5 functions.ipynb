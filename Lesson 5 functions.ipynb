{
 "cells": [
  {
   "cell_type": "code",
   "execution_count": 31,
   "metadata": {},
   "outputs": [],
   "source": [
    "import time"
   ]
  },
  {
   "cell_type": "markdown",
   "metadata": {},
   "source": [
    "## Lesson 5 Functions 101"
   ]
  },
  {
   "cell_type": "markdown",
   "metadata": {},
   "source": [
    "### basic syntax of a function "
   ]
  },
  {
   "cell_type": "code",
   "execution_count": 122,
   "metadata": {},
   "outputs": [
    {
     "name": "stdout",
     "output_type": "stream",
     "text": [
      "\n",
      "    Desc: returns the sum the function's inputs\n",
      "    \n",
      "    Inputs:\n",
      "    first:float or int\n",
      "    second:float or int\n",
      "    \n",
      "    Output:\n",
      "    a float or an int\n",
      "    \n",
      "3+2+third= 8\n"
     ]
    }
   ],
   "source": [
    "def my_sum(first,second,third=1):\n",
    "    \"\"\"\n",
    "    Desc: returns the sum the function's inputs\n",
    "    \n",
    "    Inputs:\n",
    "    first:float or int\n",
    "    second:float or int\n",
    "    \n",
    "    Output:\n",
    "    a float or an int\n",
    "    \"\"\"\n",
    "    \n",
    "    #exception handler\n",
    "    try: \n",
    "        return first+second+third\n",
    "    except:\n",
    "        return 0\n",
    "\n",
    "\n",
    "bob=3\n",
    "martine=2\n",
    "c=my_sum(bob,martine,3)\n",
    "print(my_sum.__doc__)\n",
    "\n",
    "print(\"{}+{}+third=\".format(a,b),c)"
   ]
  },
  {
   "cell_type": "code",
   "execution_count": 119,
   "metadata": {},
   "outputs": [
    {
     "data": {
      "text/plain": [
       "5"
      ]
     },
     "execution_count": 119,
     "metadata": {},
     "output_type": "execute_result"
    }
   ],
   "source": [
    "first=bob\n",
    "second=martine\n",
    "first+second"
   ]
  },
  {
   "cell_type": "code",
   "execution_count": 120,
   "metadata": {},
   "outputs": [
    {
     "data": {
      "text/plain": [
       "5"
      ]
     },
     "execution_count": 120,
     "metadata": {},
     "output_type": "execute_result"
    }
   ],
   "source": [
    "bob+martine"
   ]
  },
  {
   "cell_type": "markdown",
   "metadata": {},
   "source": [
    "### args and kwargs "
   ]
  },
  {
   "cell_type": "markdown",
   "metadata": {},
   "source": [
    "https://realpython.com/python-kwargs-and-args/"
   ]
  },
  {
   "cell_type": "code",
   "execution_count": 103,
   "metadata": {},
   "outputs": [],
   "source": [
    "def my_args(*args):\n",
    "    \n",
    "    \"\"\"Desc: returns to sum of the functions' inputs\"\"\"\n",
    "    result = 0\n",
    "    for number in args:\n",
    "        result += number\n",
    "    return result\n"
   ]
  },
  {
   "cell_type": "code",
   "execution_count": 106,
   "metadata": {},
   "outputs": [
    {
     "data": {
      "text/plain": [
       "28"
      ]
     },
     "execution_count": 106,
     "metadata": {},
     "output_type": "execute_result"
    }
   ],
   "source": [
    "my_args(1,2,3,4,5,6,7)"
   ]
  },
  {
   "cell_type": "markdown",
   "metadata": {},
   "source": [
    "## The concept of recursion "
   ]
  },
  {
   "cell_type": "markdown",
   "metadata": {},
   "source": [
    "Recursion is when a function is able to call itself"
   ]
  },
  {
   "cell_type": "code",
   "execution_count": 111,
   "metadata": {},
   "outputs": [
    {
     "name": "stdout",
     "output_type": "stream",
     "text": [
      "fibonacci_number: [1, 1, 2, 3, 5, 8, 13, 21, 34, 55, 89, 144, 233, 377, 610, 987, 1597, 2584, 4181, 6765] \n",
      "\n",
      "comptute time: 0.024224042892456055\n",
      "fibonacci_number: [1, 1, 2, 3, 5, 8, 13, 21, 34, 55, 89, 144, 233, 377, 610, 987, 1597, 2584, 4181, 6765] \n",
      "\n",
      "comptute time: 0.0007579326629638672\n"
     ]
    }
   ],
   "source": [
    "\n",
    "def fibonacci_of(n):\n",
    "    \"\"\"\n",
    "    Desc: recursivefunction that calculates the fibonnaci sequence up to integer n\n",
    "    \n",
    "    \"\"\"\n",
    "    if n==1:\n",
    "        return n\n",
    "    elif n==0:\n",
    "        return 1\n",
    "        \n",
    "    else:\n",
    "        return fibonacci_of(n - 1) + fibonacci_of(n - 2)  # Recursive case\n",
    "\n",
    "def fibonacci_of_with_memory(n):\n",
    "    \"\"\"\n",
    "    Desc: recursivefunction that calculates the fibonnaci sequence up to integer n\n",
    "    The function has a cahce we store some values in advance to they don't need to be calculated and store\n",
    "    additional ones when first encountetred\n",
    "    \n",
    "    \"\"\"\n",
    "        \n",
    "    cache={0: 1,1: 1,\n",
    " 2: 2,\n",
    " 3: 3,\n",
    " 4: 5,\n",
    " 5: 8,\n",
    " 6: 13,\n",
    " 7: 21,\n",
    " 8: 34,\n",
    " 9: 55,\n",
    " 10: 89,\n",
    " 11: 144,\n",
    " 12: 233,\n",
    " 13: 377,\n",
    " 14: 610,\n",
    " 15: 987,\n",
    " 16: 1597,\n",
    " 17: 2584,\n",
    " 18: 4181,\n",
    " 19: 6765}\n",
    "    if n in cache:\n",
    "        return cache[n]\n",
    "\n",
    "    else:\n",
    "        cache[n]=fibonacci_of(n - 1) + fibonacci_of(n - 2)  # Recursive case\n",
    "        return cache[n]\n",
    "    \n",
    "limit=20\n",
    "start=time.time()   \n",
    "fibonacci_number=[fibonacci_of(i) for i in range(0,limit)]\n",
    "print('fibonacci_number:', fibonacci_number,'\\n')\n",
    "print('comptute time:',time.time()-start)\n",
    "\n",
    "start=time.time()   \n",
    "fibonacci_number_2=[fibonacci_of_with_memory(i) for i in range(0,limit)]\n",
    "print('fibonacci_number:',fibonacci_number_2,'\\n')\n",
    "\n",
    "print('comptute time:',time.time()-start)\n",
    "\n",
    "\n"
   ]
  },
  {
   "cell_type": "markdown",
   "metadata": {},
   "source": [
    "## functions that returns other functions "
   ]
  },
  {
   "cell_type": "code",
   "execution_count": 115,
   "metadata": {},
   "outputs": [
    {
     "data": {
      "text/plain": [
       "'hello there'"
      ]
     },
     "execution_count": 115,
     "metadata": {},
     "output_type": "execute_result"
    }
   ],
   "source": [
    "def hello_function():\n",
    "    #a function in a function!\n",
    "    def _say_hi():\n",
    "        return \"Hi\"\n",
    "    return say_hi\n",
    "\n",
    "hello = hello_function()\n",
    "hello()"
   ]
  },
  {
   "cell_type": "code",
   "execution_count": 100,
   "metadata": {},
   "outputs": [
    {
     "name": "stdout",
     "output_type": "stream",
     "text": [
      "HELLO THERE\n"
     ]
    }
   ],
   "source": [
    "def uppercase_decorator(function):\n",
    "    \n",
    "    def wrapper():\n",
    "        func = function()\n",
    "        make_uppercase = func.upper()\n",
    "        return make_uppercase\n",
    "\n",
    "    return wrapper\n",
    "\n",
    "def say_hi():\n",
    "    return 'hello there'\n",
    "\n",
    "decorate = uppercase_decorator(say_hi)\n",
    "\n",
    "\n",
    "\n",
    "print(decorate())"
   ]
  },
  {
   "cell_type": "code",
   "execution_count": null,
   "metadata": {},
   "outputs": [],
   "source": []
  }
 ],
 "metadata": {
  "kernelspec": {
   "display_name": "Python 3",
   "language": "python",
   "name": "python3"
  },
  "language_info": {
   "codemirror_mode": {
    "name": "ipython",
    "version": 3
   },
   "file_extension": ".py",
   "mimetype": "text/x-python",
   "name": "python",
   "nbconvert_exporter": "python",
   "pygments_lexer": "ipython3",
   "version": "3.7.3"
  }
 },
 "nbformat": 4,
 "nbformat_minor": 2
}

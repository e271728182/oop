{
 "cells": [
  {
   "cell_type": "markdown",
   "metadata": {},
   "source": [
    "### Basic class "
   ]
  },
  {
   "cell_type": "markdown",
   "metadata": {},
   "source": [
    "https://www.geeksforgeeks.org/python-oops-concepts/  <br>\n",
    "https://en.wikipedia.org/wiki/Object-oriented_programming"
   ]
  },
  {
   "cell_type": "code",
   "execution_count": 53,
   "metadata": {},
   "outputs": [
    {
     "ename": "SyntaxError",
     "evalue": "invalid syntax (<ipython-input-53-b606d0d74168>, line 22)",
     "output_type": "error",
     "traceback": [
      "\u001b[0;36m  File \u001b[0;32m\"<ipython-input-53-b606d0d74168>\"\u001b[0;36m, line \u001b[0;32m22\u001b[0m\n\u001b[0;31m    class Asset\u001b[0m\n\u001b[0m                       ^\u001b[0m\n\u001b[0;31mSyntaxError\u001b[0m\u001b[0;31m:\u001b[0m invalid syntax\n"
     ]
    }
   ],
   "source": [
    "class Person:\n",
    "    #class attributes\n",
    "    def __init__(self):\n",
    "        self.name='Ti-Joe Labine'\n",
    "        self.gender='M'\n",
    "        \n",
    "        #encapsulation private member of a class\n",
    "        self.__secret='I do not have a secret'\n",
    "    \n",
    "    \n",
    "    #class Methods\n",
    "    def say_hi(self):\n",
    "        print('Allo Je m\\'appelle {}'.format(self.name))\n",
    "    \n",
    "    def tell_secret(self):\n",
    "        print(self.__secret)\n",
    "    \n",
    "    def change_secret(self,new_secret):\n",
    "        self.__secret=new_secret\n",
    "\n",
    "        \n",
    "class Fund:\n",
    "    def __init__(self):\n",
    "        self.market_value=0\n",
    "        self.id_='abc123'\n",
    "        self.brokerage_firm='Groubron inc'\n",
    "        \n",
    "        \n",
    "#intherited class\n",
    "\n",
    "class Client(person):\n",
    "    def __init__(self):\n",
    "        person.__init__(self)\n",
    "        \n",
    "        #additional attributes\n",
    "        self.client_id=666\n",
    "        self.fund_list=[]\n",
    "    \n",
    "    #polymoprophism example\n",
    "    def say_hi(self):\n",
    "         print('Allo mon numero de client est: {}'.format(self.client_id))\n",
    "    \n",
    "    \n",
    "        \n",
    "\n"
   ]
  },
  {
   "cell_type": "markdown",
   "metadata": {},
   "source": [
    "#### creating an object from the class "
   ]
  },
  {
   "cell_type": "code",
   "execution_count": 43,
   "metadata": {},
   "outputs": [
    {
     "name": "stdout",
     "output_type": "stream",
     "text": [
      "Allo Je m'appelle Ti-Joe Labine\n",
      "Allo Je m'appelle Homer Simpson\n"
     ]
    }
   ],
   "source": [
    "new_person=Person()\n",
    "new_person.say_hi()\n",
    "\n",
    "\n",
    "new_person.name='Homer Simpson'\n",
    "new_person.say_hi()"
   ]
  },
  {
   "cell_type": "markdown",
   "metadata": {},
   "source": [
    "#### Link between class and dicts "
   ]
  },
  {
   "cell_type": "code",
   "execution_count": 44,
   "metadata": {},
   "outputs": [
    {
     "data": {
      "text/plain": [
       "{'name': 'Homer Simpson',\n",
       " 'gender': 'M',\n",
       " '_person__secret': 'I do not have a secret'}"
      ]
     },
     "execution_count": 44,
     "metadata": {},
     "output_type": "execute_result"
    }
   ],
   "source": [
    "new_person.__dict__"
   ]
  },
  {
   "cell_type": "markdown",
   "metadata": {},
   "source": [
    "#### getting setting private members"
   ]
  },
  {
   "cell_type": "code",
   "execution_count": 45,
   "metadata": {},
   "outputs": [
    {
     "name": "stdout",
     "output_type": "stream",
     "text": [
      "I do not have a secret\n"
     ]
    }
   ],
   "source": [
    "new_person.tell_secret()"
   ]
  },
  {
   "cell_type": "code",
   "execution_count": 46,
   "metadata": {},
   "outputs": [
    {
     "name": "stdout",
     "output_type": "stream",
     "text": [
      "i love margaritas\n"
     ]
    }
   ],
   "source": [
    "\n",
    "new_person.change_secret('i love margaritas')\n",
    "new_person.tell_secret()"
   ]
  },
  {
   "cell_type": "code",
   "execution_count": 52,
   "metadata": {},
   "outputs": [
    {
     "name": "stdout",
     "output_type": "stream",
     "text": [
      "Allo mon numero de client est: 666\n"
     ]
    }
   ],
   "source": [
    "new_client=Client()\n",
    "new_client.say_hi()"
   ]
  },
  {
   "cell_type": "code",
   "execution_count": null,
   "metadata": {},
   "outputs": [],
   "source": []
  }
 ],
 "metadata": {
  "kernelspec": {
   "display_name": "Python 3",
   "language": "python",
   "name": "python3"
  },
  "language_info": {
   "codemirror_mode": {
    "name": "ipython",
    "version": 3
   },
   "file_extension": ".py",
   "mimetype": "text/x-python",
   "name": "python",
   "nbconvert_exporter": "python",
   "pygments_lexer": "ipython3",
   "version": "3.7.3"
  }
 },
 "nbformat": 4,
 "nbformat_minor": 2
}
